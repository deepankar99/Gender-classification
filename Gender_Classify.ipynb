{
 "cells": [
  {
   "cell_type": "code",
   "execution_count": 30,
   "metadata": {
    "collapsed": false
   },
   "outputs": [
    {
     "name": "stdout",
     "output_type": "stream",
     "text": [
      "Best classifier is  DecisionTreeClassifier\n"
     ]
    }
   ],
   "source": [
    "import numpy as np\n",
    "from sklearn.tree import DecisionTreeClassifier\n",
    "from sklearn.svm import SVC\n",
    "from sklearn.neighbors import KNeighborsClassifier\n",
    "from sklearn.discriminant_analysis import QuadraticDiscriminantAnalysis\n",
    "from sklearn.naive_bayes import GaussianNB\n",
    "from sklearn.linear_model import Perceptron\n",
    "from sklearn.ensemble import RandomForestClassifier, AdaBoostClassifier\n",
    "from sklearn.metrics import accuracy_score\n",
    "\n",
    "classifiers = [Perceptron(),DecisionTreeClassifier(),SVC(),KNeighborsClassifier(),QuadraticDiscriminantAnalysis(),GaussianNB(),\n",
    "               RandomForestClassifier(max_depth=5, n_estimators=10, max_features=1),AdaBoostClassifier()]\n",
    "\n",
    "names = [\"Perceptron\",\"Decision Tree\",\"Linear SVM\",\"Nearest Neighbors\",\"QDA\",\"Gaussian Process\",\"Random Forest\",\"AdaBoost\"]\n",
    "   \n",
    "#[height, weight, shoe_size]\n",
    "X = [[181, 80, 44], [177, 70, 43], [160, 60, 38], [154, 54, 37], [166, 65, 40],[190, 90, 47], [175, 64, 39],\n",
    "     [177, 70, 40], [159, 55, 37], [171, 75, 42], [181, 85, 43]]\n",
    "\n",
    "y = ['male', 'male', 'female', 'female', 'male', 'male', 'female', 'female','female', 'male', 'male']\n",
    "acc = np.zeros(len(classifiers))\n",
    "\n",
    "for i in range(len(classifiers)):\n",
    "    exec('clf'+str(i)+' = classifiers['+str(i)+'].fit(X, y)')\n",
    "    exec('prediction = clf'+str(i)+'.predict(X)')\n",
    "    accuracy = accuracy_score(y, prediction) * 100\n",
    "    acc[i] = accuracy\n",
    "\n",
    "# The best classifier\n",
    "index = np.argmax(acc)\n",
    "print 'Best classifier is ',str(classifiers[index]).rsplit('(',1)[0]"
   ]
  },
  {
   "cell_type": "code",
   "execution_count": null,
   "metadata": {
    "collapsed": true
   },
   "outputs": [],
   "source": []
  }
 ],
 "metadata": {
  "anaconda-cloud": {},
  "kernelspec": {
   "display_name": "Python [conda root]",
   "language": "python",
   "name": "conda-root-py"
  },
  "language_info": {
   "codemirror_mode": {
    "name": "ipython",
    "version": 2
   },
   "file_extension": ".py",
   "mimetype": "text/x-python",
   "name": "python",
   "nbconvert_exporter": "python",
   "pygments_lexer": "ipython2",
   "version": "2.7.12"
  }
 },
 "nbformat": 4,
 "nbformat_minor": 1
}
